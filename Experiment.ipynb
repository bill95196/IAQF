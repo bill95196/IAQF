{
 "cells": [
  {
   "cell_type": "code",
   "execution_count": 21,
   "metadata": {},
   "outputs": [
    {
     "data": {
      "text/html": [
       "<div>\n",
       "<style scoped>\n",
       "    .dataframe tbody tr th:only-of-type {\n",
       "        vertical-align: middle;\n",
       "    }\n",
       "\n",
       "    .dataframe tbody tr th {\n",
       "        vertical-align: top;\n",
       "    }\n",
       "\n",
       "    .dataframe thead th {\n",
       "        text-align: right;\n",
       "    }\n",
       "</style>\n",
       "<table border=\"1\" class=\"dataframe\">\n",
       "  <thead>\n",
       "    <tr style=\"text-align: right;\">\n",
       "      <th></th>\n",
       "      <th>market</th>\n",
       "      <th>idt</th>\n",
       "      <th>maturity_target</th>\n",
       "      <th>mu</th>\n",
       "      <th>sd</th>\n",
       "      <th>skew</th>\n",
       "      <th>kurt</th>\n",
       "      <th>p10</th>\n",
       "      <th>p50</th>\n",
       "      <th>p90</th>\n",
       "      <th>lg_change_decr</th>\n",
       "      <th>prDec</th>\n",
       "      <th>lg_change_incr</th>\n",
       "      <th>prInc</th>\n",
       "    </tr>\n",
       "  </thead>\n",
       "  <tbody>\n",
       "    <tr>\n",
       "      <th>0</th>\n",
       "      <td>bac</td>\n",
       "      <td>1/15/2010</td>\n",
       "      <td>3.0</td>\n",
       "      <td>-0.02514</td>\n",
       "      <td>0.18210</td>\n",
       "      <td>-0.38173</td>\n",
       "      <td>0.85192</td>\n",
       "      <td>-0.25389</td>\n",
       "      <td>-0.01634</td>\n",
       "      <td>0.19272</td>\n",
       "      <td>-20.0</td>\n",
       "      <td>0.14898</td>\n",
       "      <td>20.0</td>\n",
       "      <td>0.09307</td>\n",
       "    </tr>\n",
       "    <tr>\n",
       "      <th>1</th>\n",
       "      <td>bac</td>\n",
       "      <td>1/29/2010</td>\n",
       "      <td>3.0</td>\n",
       "      <td>-0.02194</td>\n",
       "      <td>0.21265</td>\n",
       "      <td>-0.79513</td>\n",
       "      <td>1.61552</td>\n",
       "      <td>-0.28826</td>\n",
       "      <td>0.00001</td>\n",
       "      <td>0.21786</td>\n",
       "      <td>-20.0</td>\n",
       "      <td>0.16750</td>\n",
       "      <td>20.0</td>\n",
       "      <td>0.12009</td>\n",
       "    </tr>\n",
       "    <tr>\n",
       "      <th>2</th>\n",
       "      <td>bac</td>\n",
       "      <td>2/12/2010</td>\n",
       "      <td>3.0</td>\n",
       "      <td>-0.01699</td>\n",
       "      <td>0.21625</td>\n",
       "      <td>-0.86181</td>\n",
       "      <td>1.83248</td>\n",
       "      <td>-0.28670</td>\n",
       "      <td>0.00720</td>\n",
       "      <td>0.22358</td>\n",
       "      <td>-20.0</td>\n",
       "      <td>0.16404</td>\n",
       "      <td>20.0</td>\n",
       "      <td>0.12713</td>\n",
       "    </tr>\n",
       "    <tr>\n",
       "      <th>3</th>\n",
       "      <td>bac</td>\n",
       "      <td>2/26/2010</td>\n",
       "      <td>3.0</td>\n",
       "      <td>-0.00965</td>\n",
       "      <td>0.17893</td>\n",
       "      <td>-0.70108</td>\n",
       "      <td>1.40641</td>\n",
       "      <td>-0.23570</td>\n",
       "      <td>0.00776</td>\n",
       "      <td>0.19373</td>\n",
       "      <td>-20.0</td>\n",
       "      <td>0.12882</td>\n",
       "      <td>20.0</td>\n",
       "      <td>0.09233</td>\n",
       "    </tr>\n",
       "    <tr>\n",
       "      <th>4</th>\n",
       "      <td>bac</td>\n",
       "      <td>3/15/2010</td>\n",
       "      <td>3.0</td>\n",
       "      <td>0.00006</td>\n",
       "      <td>0.17357</td>\n",
       "      <td>-0.71889</td>\n",
       "      <td>1.63480</td>\n",
       "      <td>-0.21657</td>\n",
       "      <td>0.01649</td>\n",
       "      <td>0.19608</td>\n",
       "      <td>-20.0</td>\n",
       "      <td>0.11325</td>\n",
       "      <td>20.0</td>\n",
       "      <td>0.09545</td>\n",
       "    </tr>\n",
       "  </tbody>\n",
       "</table>\n",
       "</div>"
      ],
      "text/plain": [
       "  market        idt  maturity_target       mu       sd     skew     kurt  \\\n",
       "0    bac  1/15/2010              3.0 -0.02514  0.18210 -0.38173  0.85192   \n",
       "1    bac  1/29/2010              3.0 -0.02194  0.21265 -0.79513  1.61552   \n",
       "2    bac  2/12/2010              3.0 -0.01699  0.21625 -0.86181  1.83248   \n",
       "3    bac  2/26/2010              3.0 -0.00965  0.17893 -0.70108  1.40641   \n",
       "4    bac  3/15/2010              3.0  0.00006  0.17357 -0.71889  1.63480   \n",
       "\n",
       "       p10      p50      p90  lg_change_decr    prDec  lg_change_incr    prInc  \n",
       "0 -0.25389 -0.01634  0.19272           -20.0  0.14898            20.0  0.09307  \n",
       "1 -0.28826  0.00001  0.21786           -20.0  0.16750            20.0  0.12009  \n",
       "2 -0.28670  0.00720  0.22358           -20.0  0.16404            20.0  0.12713  \n",
       "3 -0.23570  0.00776  0.19373           -20.0  0.12882            20.0  0.09233  \n",
       "4 -0.21657  0.01649  0.19608           -20.0  0.11325            20.0  0.09545  "
      ]
     },
     "execution_count": 21,
     "metadata": {},
     "output_type": "execute_result"
    }
   ],
   "source": [
    "from statsmodels.sandbox import distributions\n",
    "import pandas as pd\n",
    "import numpy  as np\n",
    "import yfinance as yf\n",
    "\n",
    "\n",
    "data = pd.read_csv('mpd_stats.csv')\n",
    "data.head()"
   ]
  },
  {
   "cell_type": "code",
   "execution_count": 32,
   "metadata": {},
   "outputs": [],
   "source": [
    "data['maturity_target'] = data['maturity_target'].ffill()"
   ]
  },
  {
   "cell_type": "code",
   "execution_count": 33,
   "metadata": {},
   "outputs": [],
   "source": [
    "sets = data.groupby(['market']).indices\n",
    "for i in sets:\n",
    "    maturity = data.loc[data['market']==i].groupby(['maturity_target']).indices\n",
    "    for m in maturity:\n",
    "        result = data.loc[(data['market']==i) & (data['maturity_target']==m)]\n",
    "        result.to_csv(f'data/{i}_{int(m)}.csv')"
   ]
  },
  {
   "cell_type": "code",
   "execution_count": 25,
   "metadata": {},
   "outputs": [
    {
     "name": "stderr",
     "output_type": "stream",
     "text": [
      "c:\\Users\\Zaichuan\\AppData\\Local\\Programs\\Python\\Python311\\Lib\\site-packages\\yfinance\\utils.py:771: FutureWarning: The 'unit' keyword in TimedeltaIndex construction is deprecated and will be removed in a future version. Use pd.to_timedelta instead.\n",
      "  df.index += _pd.TimedeltaIndex(dst_error_hours, 'h')\n"
     ]
    }
   ],
   "source": [
    "start, end = \"2000-01-01\", \"2023-01-01\"\n",
    "silver = yf.download(\"SI=F\", start=start, end=end, progress= False)\n",
    "silver.to_csv(\"data/silver.csv\")"
   ]
  },
  {
   "cell_type": "code",
   "execution_count": 26,
   "metadata": {},
   "outputs": [
    {
     "name": "stderr",
     "output_type": "stream",
     "text": [
      "c:\\Users\\Zaichuan\\AppData\\Local\\Programs\\Python\\Python311\\Lib\\site-packages\\yfinance\\utils.py:771: FutureWarning: The 'unit' keyword in TimedeltaIndex construction is deprecated and will be removed in a future version. Use pd.to_timedelta instead.\n",
      "  df.index += _pd.TimedeltaIndex(dst_error_hours, 'h')\n"
     ]
    }
   ],
   "source": [
    "bac = yf.download(\"BAC\", start=start, end=end, progress= False)\n",
    "bac.to_csv(\"data/bac.csv\")"
   ]
  },
  {
   "cell_type": "code",
   "execution_count": 27,
   "metadata": {},
   "outputs": [
    {
     "name": "stderr",
     "output_type": "stream",
     "text": [
      "c:\\Users\\Zaichuan\\AppData\\Local\\Programs\\Python\\Python311\\Lib\\site-packages\\yfinance\\utils.py:771: FutureWarning: The 'unit' keyword in TimedeltaIndex construction is deprecated and will be removed in a future version. Use pd.to_timedelta instead.\n",
      "  df.index += _pd.TimedeltaIndex(dst_error_hours, 'h')\n"
     ]
    }
   ],
   "source": [
    "citi = yf.download(\"C\", start=start, end=end, progress= False)\n",
    "citi.to_csv(\"data/citi.csv\")"
   ]
  },
  {
   "cell_type": "code",
   "execution_count": 28,
   "metadata": {},
   "outputs": [
    {
     "name": "stderr",
     "output_type": "stream",
     "text": [
      "c:\\Users\\Zaichuan\\AppData\\Local\\Programs\\Python\\Python311\\Lib\\site-packages\\yfinance\\utils.py:771: FutureWarning: The 'unit' keyword in TimedeltaIndex construction is deprecated and will be removed in a future version. Use pd.to_timedelta instead.\n",
      "  df.index += _pd.TimedeltaIndex(dst_error_hours, 'h')\n"
     ]
    }
   ],
   "source": [
    "corn = yf.download(\"ZC=F\", start=start, end=end, progress= False)\n",
    "corn.to_csv(\"data/corn.csv\")"
   ]
  },
  {
   "cell_type": "code",
   "execution_count": 29,
   "metadata": {},
   "outputs": [
    {
     "name": "stderr",
     "output_type": "stream",
     "text": [
      "c:\\Users\\Zaichuan\\AppData\\Local\\Programs\\Python\\Python311\\Lib\\site-packages\\yfinance\\utils.py:771: FutureWarning: The 'unit' keyword in TimedeltaIndex construction is deprecated and will be removed in a future version. Use pd.to_timedelta instead.\n",
      "  df.index += _pd.TimedeltaIndex(dst_error_hours, 'h')\n"
     ]
    }
   ],
   "source": [
    "euro = yf.download(\"EURUSD=X\", start=start, end=end, progress= False)\n",
    "euro.to_csv(\"data/euro.csv\")"
   ]
  },
  {
   "cell_type": "code",
   "execution_count": 30,
   "metadata": {},
   "outputs": [
    {
     "name": "stderr",
     "output_type": "stream",
     "text": [
      "c:\\Users\\Zaichuan\\AppData\\Local\\Programs\\Python\\Python311\\Lib\\site-packages\\yfinance\\utils.py:771: FutureWarning: The 'unit' keyword in TimedeltaIndex construction is deprecated and will be removed in a future version. Use pd.to_timedelta instead.\n",
      "  df.index += _pd.TimedeltaIndex(dst_error_hours, 'h')\n"
     ]
    }
   ],
   "source": [
    "gold = yf.download(\"GC=F\", start=start, end=end, progress= False)\n",
    "gold.to_csv(\"data/gold.csv\")"
   ]
  },
  {
   "cell_type": "code",
   "execution_count": 31,
   "metadata": {},
   "outputs": [
    {
     "name": "stderr",
     "output_type": "stream",
     "text": [
      "c:\\Users\\Zaichuan\\AppData\\Local\\Programs\\Python\\Python311\\Lib\\site-packages\\yfinance\\utils.py:771: FutureWarning: The 'unit' keyword in TimedeltaIndex construction is deprecated and will be removed in a future version. Use pd.to_timedelta instead.\n",
      "  df.index += _pd.TimedeltaIndex(dst_error_hours, 'h')\n"
     ]
    }
   ],
   "source": [
    "iyr = yf.download(\"IYR\", start=start, end=end, progress= False)\n",
    "iyr.to_csv(\"data/iyr.csv\")"
   ]
  },
  {
   "cell_type": "code",
   "execution_count": 34,
   "metadata": {},
   "outputs": [
    {
     "name": "stderr",
     "output_type": "stream",
     "text": [
      "c:\\Users\\Zaichuan\\AppData\\Local\\Programs\\Python\\Python311\\Lib\\site-packages\\yfinance\\utils.py:771: FutureWarning: The 'unit' keyword in TimedeltaIndex construction is deprecated and will be removed in a future version. Use pd.to_timedelta instead.\n",
      "  df.index += _pd.TimedeltaIndex(dst_error_hours, 'h')\n"
     ]
    }
   ],
   "source": [
    "oil = yf.download(\"CL=F\", start=start, end=end, progress= False)\n",
    "oil.to_csv(\"data/oil.csv\")"
   ]
  },
  {
   "cell_type": "code",
   "execution_count": 35,
   "metadata": {},
   "outputs": [
    {
     "name": "stderr",
     "output_type": "stream",
     "text": [
      "c:\\Users\\Zaichuan\\AppData\\Local\\Programs\\Python\\Python311\\Lib\\site-packages\\yfinance\\utils.py:771: FutureWarning: The 'unit' keyword in TimedeltaIndex construction is deprecated and will be removed in a future version. Use pd.to_timedelta instead.\n",
      "  df.index += _pd.TimedeltaIndex(dst_error_hours, 'h')\n"
     ]
    }
   ],
   "source": [
    "pound = yf.download(\"GBPUSD=X\", start=start, end=end, progress= False)\n",
    "pound.to_csv(\"data/pound.csv\")"
   ]
  },
  {
   "cell_type": "code",
   "execution_count": 36,
   "metadata": {},
   "outputs": [
    {
     "name": "stderr",
     "output_type": "stream",
     "text": [
      "c:\\Users\\Zaichuan\\AppData\\Local\\Programs\\Python\\Python311\\Lib\\site-packages\\yfinance\\utils.py:771: FutureWarning: The 'unit' keyword in TimedeltaIndex construction is deprecated and will be removed in a future version. Use pd.to_timedelta instead.\n",
      "  df.index += _pd.TimedeltaIndex(dst_error_hours, 'h')\n"
     ]
    }
   ],
   "source": [
    "soybns = yf.download(\"ZS=F\", start=start, end=end, progress= False)\n",
    "soybns.to_csv(\"data/soybns.csv\")"
   ]
  },
  {
   "cell_type": "code",
   "execution_count": 37,
   "metadata": {},
   "outputs": [
    {
     "name": "stderr",
     "output_type": "stream",
     "text": [
      "c:\\Users\\Zaichuan\\AppData\\Local\\Programs\\Python\\Python311\\Lib\\site-packages\\yfinance\\utils.py:771: FutureWarning: The 'unit' keyword in TimedeltaIndex construction is deprecated and will be removed in a future version. Use pd.to_timedelta instead.\n",
      "  df.index += _pd.TimedeltaIndex(dst_error_hours, 'h')\n"
     ]
    }
   ],
   "source": [
    "tr5yr = yf.download(\"^FVX\", start=start, end=end, progress= False)\n",
    "tr5yr.to_csv(\"data/tr5yr.csv\")"
   ]
  },
  {
   "cell_type": "code",
   "execution_count": 38,
   "metadata": {},
   "outputs": [
    {
     "name": "stderr",
     "output_type": "stream",
     "text": [
      "c:\\Users\\Zaichuan\\AppData\\Local\\Programs\\Python\\Python311\\Lib\\site-packages\\yfinance\\utils.py:771: FutureWarning: The 'unit' keyword in TimedeltaIndex construction is deprecated and will be removed in a future version. Use pd.to_timedelta instead.\n",
      "  df.index += _pd.TimedeltaIndex(dst_error_hours, 'h')\n"
     ]
    }
   ],
   "source": [
    "tr10yr = yf.download(\"^TNX\", start=start, end=end, progress= False)\n",
    "tr10yr.to_csv(\"data/tr10yr.csv\")"
   ]
  },
  {
   "cell_type": "code",
   "execution_count": 39,
   "metadata": {},
   "outputs": [
    {
     "name": "stderr",
     "output_type": "stream",
     "text": [
      "c:\\Users\\Zaichuan\\AppData\\Local\\Programs\\Python\\Python311\\Lib\\site-packages\\yfinance\\utils.py:771: FutureWarning: The 'unit' keyword in TimedeltaIndex construction is deprecated and will be removed in a future version. Use pd.to_timedelta instead.\n",
      "  df.index += _pd.TimedeltaIndex(dst_error_hours, 'h')\n"
     ]
    }
   ],
   "source": [
    "wheat = yf.download(\"ZW=F\", start=start, end=end, progress= False)\n",
    "wheat.to_csv(\"data/wheat.csv\")"
   ]
  },
  {
   "cell_type": "code",
   "execution_count": 40,
   "metadata": {},
   "outputs": [
    {
     "name": "stderr",
     "output_type": "stream",
     "text": [
      "c:\\Users\\Zaichuan\\AppData\\Local\\Programs\\Python\\Python311\\Lib\\site-packages\\yfinance\\utils.py:771: FutureWarning: The 'unit' keyword in TimedeltaIndex construction is deprecated and will be removed in a future version. Use pd.to_timedelta instead.\n",
      "  df.index += _pd.TimedeltaIndex(dst_error_hours, 'h')\n"
     ]
    }
   ],
   "source": [
    "yen = yf.download(\"JPY=X\", start=start, end=end, progress= False)\n",
    "yen.to_csv(\"data/yen.csv\")"
   ]
  },
  {
   "cell_type": "code",
   "execution_count": null,
   "metadata": {},
   "outputs": [],
   "source": []
  }
 ],
 "metadata": {
  "kernelspec": {
   "display_name": "Python 3",
   "language": "python",
   "name": "python3"
  },
  "language_info": {
   "codemirror_mode": {
    "name": "ipython",
    "version": 3
   },
   "file_extension": ".py",
   "mimetype": "text/x-python",
   "name": "python",
   "nbconvert_exporter": "python",
   "pygments_lexer": "ipython3",
   "version": "3.11.5"
  }
 },
 "nbformat": 4,
 "nbformat_minor": 2
}
