{
 "cells": [
  {
   "cell_type": "code",
   "execution_count": 1,
   "metadata": {},
   "outputs": [],
   "source": [
    "import os\n",
    "import pandas as pd\n",
    "import numpy as np\n",
    "from scipy.stats import linregress"
   ]
  },
  {
   "cell_type": "code",
   "execution_count": null,
   "metadata": {},
   "outputs": [],
   "source": [
    "def compute_RS(series, min_window=10):\n",
    "    \"\"\"计算给定时间序列的重标极差（R/S）。\"\"\"\n",
    "    n = len(series)\n",
    "    RS = []\n",
    "    window_sizes = range(min_window, n, int(n/4))\n",
    "    for window_size in window_sizes:\n",
    "        R_over_S = []\n",
    "        for start in range(0, n, window_size):\n",
    "            end = min(n, start + window_size)\n",
    "            if end - start < window_size:\n",
    "                break\n",
    "            segment = series[start:end]\n",
    "            mean = np.mean(segment)\n",
    "            cumulative_deviation = np.cumsum(segment - mean)\n",
    "            R = np.max(cumulative_deviation) - np.min(cumulative_deviation)\n",
    "            S = np.std(segment)\n",
    "            if S != 0:\n",
    "                R_over_S.append(R / S)\n",
    "        RS.append(np.mean(R_over_S))\n",
    "    return np.log(window_sizes), np.log(RS)\n",
    "\n",
    "def hurst_exponent(time_series):\n",
    "    \"\"\"计算时间序列的Hurst指数。\"\"\"\n",
    "    lags, RS = compute_RS(time_series)\n",
    "    slope, intercept, r_value, p_value, std_err = linregress(lags, RS)\n",
    "    return slope\n",
    "\n",
    "def process_csv_files(directory):\n",
    "    \"\"\"处理目录中的所有CSV文件，并计算它们的Hurst指数。\"\"\"\n",
    "    hurst_results = {}\n",
    "    for filename in os.listdir(directory):\n",
    "        if filename.endswith('.csv'):\n",
    "            file_path = os.path.join(directory, filename)\n",
    "            data = pd.read_csv(file_path)\n",
    "            # 假设时间序列数据在名为'value'的列中\n",
    "            time_series = data['value']\n",
    "            hurst = hurst_exponent(time_series)\n",
    "            hurst_results[filename] = hurst\n",
    "    return hurst_results\n",
    "\n",
    "# 使用示例\n",
    "directory = 'path/to/your/csv/files'  # 将此路径替换为你的CSV文件目录\n",
    "hurst_results = process_csv_files(directory)\n",
    "print(hurst_results)\n"
   ]
  },
  {
   "cell_type": "code",
   "execution_count": null,
   "metadata": {},
   "outputs": [],
   "source": []
  }
 ],
 "metadata": {
  "kernelspec": {
   "display_name": "Python 3",
   "language": "python",
   "name": "python3"
  },
  "language_info": {
   "codemirror_mode": {
    "name": "ipython",
    "version": 3
   },
   "file_extension": ".py",
   "mimetype": "text/x-python",
   "name": "python",
   "nbconvert_exporter": "python",
   "pygments_lexer": "ipython3",
   "version": "3.10.4"
  }
 },
 "nbformat": 4,
 "nbformat_minor": 2
}
