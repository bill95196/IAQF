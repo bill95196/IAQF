{
 "cells": [
  {
   "cell_type": "code",
   "execution_count": 4,
   "metadata": {},
   "outputs": [],
   "source": [
    "import yfinance as yf"
   ]
  },
  {
   "cell_type": "code",
   "execution_count": 5,
   "metadata": {},
   "outputs": [
    {
     "name": "stdout",
     "output_type": "stream",
     "text": [
      "[*********************100%%**********************]  1 of 1 completed\n",
      "                   Open         High          Low        Close    Adj Close  \\\n",
      "Date                                                                          \n",
      "2006-01-03  1248.290039  1270.219971  1245.739990  1268.800049  1268.800049   \n",
      "2006-01-04  1268.800049  1275.369995  1267.739990  1273.459961  1273.459961   \n",
      "2006-01-05  1273.459961  1276.910034  1270.300049  1273.479980  1273.479980   \n",
      "2006-01-06  1273.479980  1286.089966  1273.479980  1285.449951  1285.449951   \n",
      "2006-01-09  1285.449951  1290.780029  1284.819946  1290.150024  1290.150024   \n",
      "\n",
      "                Volume  \n",
      "Date                    \n",
      "2006-01-03  2554570000  \n",
      "2006-01-04  2515330000  \n",
      "2006-01-05  2433340000  \n",
      "2006-01-06  2446560000  \n",
      "2006-01-09  2301490000  \n"
     ]
    },
    {
     "name": "stderr",
     "output_type": "stream",
     "text": [
      "c:\\Users\\azhe1\\AppData\\Local\\Programs\\Python\\Python311\\Lib\\site-packages\\yfinance\\utils.py:771: FutureWarning: The 'unit' keyword in TimedeltaIndex construction is deprecated and will be removed in a future version. Use pd.to_timedelta instead.\n",
      "  df.index += _pd.TimedeltaIndex(dst_error_hours, 'h')\n"
     ]
    }
   ],
   "source": [
    "# Define the ticker symbol for the S&P 500 index\n",
    "ticker_symbol = \"^GSPC\"\n",
    "\n",
    "# Set the start and end dates for the data you want\n",
    "start_date = \"2006-01-01\"\n",
    "\n",
    "# Fetch the data using yfinance\n",
    "sp500_data = yf.download(ticker_symbol, start=start_date)\n",
    "\n",
    "# Print the fetched data\n",
    "print(sp500_data.head())\n",
    "\n",
    "# Save historical data as csv file\n",
    "sp500_data.to_csv('sp500_data.csv')"
   ]
  }
 ],
 "metadata": {
  "kernelspec": {
   "display_name": "Python 3",
   "language": "python",
   "name": "python3"
  },
  "language_info": {
   "codemirror_mode": {
    "name": "ipython",
    "version": 3
   },
   "file_extension": ".py",
   "mimetype": "text/x-python",
   "name": "python",
   "nbconvert_exporter": "python",
   "pygments_lexer": "ipython3",
   "version": "3.11.3"
  }
 },
 "nbformat": 4,
 "nbformat_minor": 2
}
