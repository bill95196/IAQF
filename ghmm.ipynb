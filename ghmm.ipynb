{
 "cells": [
  {
   "cell_type": "code",
   "execution_count": 1,
   "metadata": {},
   "outputs": [],
   "source": [
    "import numpy as np\n",
    "import pandas as pd\n",
    "from hmmlearn import hmm\n",
    "from datetime import datetime as dt\n",
    "import matplotlib.pyplot as plt"
   ]
  },
  {
   "cell_type": "code",
   "execution_count": 2,
   "metadata": {},
   "outputs": [
    {
     "data": {
      "text/html": [
       "<div>\n",
       "<style scoped>\n",
       "    .dataframe tbody tr th:only-of-type {\n",
       "        vertical-align: middle;\n",
       "    }\n",
       "\n",
       "    .dataframe tbody tr th {\n",
       "        vertical-align: top;\n",
       "    }\n",
       "\n",
       "    .dataframe thead th {\n",
       "        text-align: right;\n",
       "    }\n",
       "</style>\n",
       "<table border=\"1\" class=\"dataframe\">\n",
       "  <thead>\n",
       "    <tr style=\"text-align: right;\">\n",
       "      <th></th>\n",
       "      <th>Open</th>\n",
       "      <th>High</th>\n",
       "      <th>Low</th>\n",
       "      <th>Close</th>\n",
       "      <th>Adj Close</th>\n",
       "      <th>Volume</th>\n",
       "    </tr>\n",
       "    <tr>\n",
       "      <th>Date</th>\n",
       "      <th></th>\n",
       "      <th></th>\n",
       "      <th></th>\n",
       "      <th></th>\n",
       "      <th></th>\n",
       "      <th></th>\n",
       "    </tr>\n",
       "  </thead>\n",
       "  <tbody>\n",
       "    <tr>\n",
       "      <th>2006-01-03</th>\n",
       "      <td>1248.290039</td>\n",
       "      <td>1270.219971</td>\n",
       "      <td>1245.739990</td>\n",
       "      <td>1268.800049</td>\n",
       "      <td>1268.800049</td>\n",
       "      <td>2554570000</td>\n",
       "    </tr>\n",
       "    <tr>\n",
       "      <th>2006-01-04</th>\n",
       "      <td>1268.800049</td>\n",
       "      <td>1275.369995</td>\n",
       "      <td>1267.739990</td>\n",
       "      <td>1273.459961</td>\n",
       "      <td>1273.459961</td>\n",
       "      <td>2515330000</td>\n",
       "    </tr>\n",
       "    <tr>\n",
       "      <th>2006-01-05</th>\n",
       "      <td>1273.459961</td>\n",
       "      <td>1276.910034</td>\n",
       "      <td>1270.300049</td>\n",
       "      <td>1273.479980</td>\n",
       "      <td>1273.479980</td>\n",
       "      <td>2433340000</td>\n",
       "    </tr>\n",
       "    <tr>\n",
       "      <th>2006-01-06</th>\n",
       "      <td>1273.479980</td>\n",
       "      <td>1286.089966</td>\n",
       "      <td>1273.479980</td>\n",
       "      <td>1285.449951</td>\n",
       "      <td>1285.449951</td>\n",
       "      <td>2446560000</td>\n",
       "    </tr>\n",
       "    <tr>\n",
       "      <th>2006-01-09</th>\n",
       "      <td>1285.449951</td>\n",
       "      <td>1290.780029</td>\n",
       "      <td>1284.819946</td>\n",
       "      <td>1290.150024</td>\n",
       "      <td>1290.150024</td>\n",
       "      <td>2301490000</td>\n",
       "    </tr>\n",
       "  </tbody>\n",
       "</table>\n",
       "</div>"
      ],
      "text/plain": [
       "                   Open         High          Low        Close    Adj Close  \\\n",
       "Date                                                                          \n",
       "2006-01-03  1248.290039  1270.219971  1245.739990  1268.800049  1268.800049   \n",
       "2006-01-04  1268.800049  1275.369995  1267.739990  1273.459961  1273.459961   \n",
       "2006-01-05  1273.459961  1276.910034  1270.300049  1273.479980  1273.479980   \n",
       "2006-01-06  1273.479980  1286.089966  1273.479980  1285.449951  1285.449951   \n",
       "2006-01-09  1285.449951  1290.780029  1284.819946  1290.150024  1290.150024   \n",
       "\n",
       "                Volume  \n",
       "Date                    \n",
       "2006-01-03  2554570000  \n",
       "2006-01-04  2515330000  \n",
       "2006-01-05  2433340000  \n",
       "2006-01-06  2446560000  \n",
       "2006-01-09  2301490000  "
      ]
     },
     "execution_count": 2,
     "metadata": {},
     "output_type": "execute_result"
    }
   ],
   "source": [
    "# Read data\n",
    "df = pd.read_csv(\"sp500_data.csv\", index_col=\"Date\")\n",
    "df.head()"
   ]
  },
  {
   "cell_type": "code",
   "execution_count": 3,
   "metadata": {},
   "outputs": [
    {
     "name": "stdout",
     "output_type": "stream",
     "text": [
      "Open         0\n",
      "High         0\n",
      "Low          0\n",
      "Close        0\n",
      "Adj Close    0\n",
      "Volume       0\n",
      "dtype: int64\n"
     ]
    }
   ],
   "source": [
    "# Test if 'df' contains NaN values\n",
    "nan_values = df.isna()\n",
    "nan_count_per_column = df.isna().sum()\n",
    "print(nan_count_per_column)"
   ]
  },
  {
   "cell_type": "code",
   "execution_count": 4,
   "metadata": {},
   "outputs": [
    {
     "data": {
      "text/html": [
       "<div>\n",
       "<style scoped>\n",
       "    .dataframe tbody tr th:only-of-type {\n",
       "        vertical-align: middle;\n",
       "    }\n",
       "\n",
       "    .dataframe tbody tr th {\n",
       "        vertical-align: top;\n",
       "    }\n",
       "\n",
       "    .dataframe thead th {\n",
       "        text-align: right;\n",
       "    }\n",
       "</style>\n",
       "<table border=\"1\" class=\"dataframe\">\n",
       "  <thead>\n",
       "    <tr style=\"text-align: right;\">\n",
       "      <th></th>\n",
       "      <th>Open</th>\n",
       "      <th>High</th>\n",
       "      <th>Low</th>\n",
       "      <th>Close</th>\n",
       "      <th>Adj Close</th>\n",
       "      <th>Volume</th>\n",
       "    </tr>\n",
       "    <tr>\n",
       "      <th>Date</th>\n",
       "      <th></th>\n",
       "      <th></th>\n",
       "      <th></th>\n",
       "      <th></th>\n",
       "      <th></th>\n",
       "      <th></th>\n",
       "    </tr>\n",
       "  </thead>\n",
       "  <tbody>\n",
       "    <tr>\n",
       "      <th>2006-01-03</th>\n",
       "      <td>False</td>\n",
       "      <td>False</td>\n",
       "      <td>False</td>\n",
       "      <td>False</td>\n",
       "      <td>False</td>\n",
       "      <td>False</td>\n",
       "    </tr>\n",
       "    <tr>\n",
       "      <th>2006-01-04</th>\n",
       "      <td>True</td>\n",
       "      <td>True</td>\n",
       "      <td>True</td>\n",
       "      <td>True</td>\n",
       "      <td>True</td>\n",
       "      <td>False</td>\n",
       "    </tr>\n",
       "    <tr>\n",
       "      <th>2006-01-05</th>\n",
       "      <td>True</td>\n",
       "      <td>True</td>\n",
       "      <td>True</td>\n",
       "      <td>True</td>\n",
       "      <td>True</td>\n",
       "      <td>False</td>\n",
       "    </tr>\n",
       "    <tr>\n",
       "      <th>2006-01-06</th>\n",
       "      <td>True</td>\n",
       "      <td>True</td>\n",
       "      <td>True</td>\n",
       "      <td>True</td>\n",
       "      <td>True</td>\n",
       "      <td>True</td>\n",
       "    </tr>\n",
       "    <tr>\n",
       "      <th>2006-01-09</th>\n",
       "      <td>True</td>\n",
       "      <td>True</td>\n",
       "      <td>True</td>\n",
       "      <td>True</td>\n",
       "      <td>True</td>\n",
       "      <td>False</td>\n",
       "    </tr>\n",
       "  </tbody>\n",
       "</table>\n",
       "</div>"
      ],
      "text/plain": [
       "             Open   High    Low  Close  Adj Close  Volume\n",
       "Date                                                     \n",
       "2006-01-03  False  False  False  False      False   False\n",
       "2006-01-04   True   True   True   True       True   False\n",
       "2006-01-05   True   True   True   True       True   False\n",
       "2006-01-06   True   True   True   True       True    True\n",
       "2006-01-09   True   True   True   True       True   False"
      ]
     },
     "execution_count": 4,
     "metadata": {},
     "output_type": "execute_result"
    }
   ],
   "source": [
    "trend = df > df.shift(1)\n",
    "trend.head()"
   ]
  },
  {
   "cell_type": "code",
   "execution_count": 11,
   "metadata": {},
   "outputs": [
    {
     "data": {
      "text/html": [
       "<div>\n",
       "<style scoped>\n",
       "    .dataframe tbody tr th:only-of-type {\n",
       "        vertical-align: middle;\n",
       "    }\n",
       "\n",
       "    .dataframe tbody tr th {\n",
       "        vertical-align: top;\n",
       "    }\n",
       "\n",
       "    .dataframe thead th {\n",
       "        text-align: right;\n",
       "    }\n",
       "</style>\n",
       "<table border=\"1\" class=\"dataframe\">\n",
       "  <thead>\n",
       "    <tr style=\"text-align: right;\">\n",
       "      <th></th>\n",
       "      <th>Open</th>\n",
       "      <th>High</th>\n",
       "      <th>Low</th>\n",
       "      <th>Close</th>\n",
       "      <th>Adj Close</th>\n",
       "      <th>Volume</th>\n",
       "    </tr>\n",
       "    <tr>\n",
       "      <th>Date</th>\n",
       "      <th></th>\n",
       "      <th></th>\n",
       "      <th></th>\n",
       "      <th></th>\n",
       "      <th></th>\n",
       "      <th></th>\n",
       "    </tr>\n",
       "  </thead>\n",
       "  <tbody>\n",
       "    <tr>\n",
       "      <th>2006-01-04</th>\n",
       "      <td>0.016297</td>\n",
       "      <td>0.004046</td>\n",
       "      <td>0.017506</td>\n",
       "      <td>0.003666</td>\n",
       "      <td>0.003666</td>\n",
       "      <td>-0.015480</td>\n",
       "    </tr>\n",
       "    <tr>\n",
       "      <th>2006-01-05</th>\n",
       "      <td>0.003666</td>\n",
       "      <td>0.001207</td>\n",
       "      <td>0.002017</td>\n",
       "      <td>0.000016</td>\n",
       "      <td>0.000016</td>\n",
       "      <td>-0.033139</td>\n",
       "    </tr>\n",
       "    <tr>\n",
       "      <th>2006-01-06</th>\n",
       "      <td>0.000016</td>\n",
       "      <td>0.007163</td>\n",
       "      <td>0.002500</td>\n",
       "      <td>0.009356</td>\n",
       "      <td>0.009356</td>\n",
       "      <td>0.005418</td>\n",
       "    </tr>\n",
       "    <tr>\n",
       "      <th>2006-01-09</th>\n",
       "      <td>0.009356</td>\n",
       "      <td>0.003640</td>\n",
       "      <td>0.008865</td>\n",
       "      <td>0.003650</td>\n",
       "      <td>0.003650</td>\n",
       "      <td>-0.061126</td>\n",
       "    </tr>\n",
       "    <tr>\n",
       "      <th>2006-01-10</th>\n",
       "      <td>0.003650</td>\n",
       "      <td>-0.000488</td>\n",
       "      <td>-0.000825</td>\n",
       "      <td>-0.000357</td>\n",
       "      <td>-0.000357</td>\n",
       "      <td>0.030632</td>\n",
       "    </tr>\n",
       "  </tbody>\n",
       "</table>\n",
       "</div>"
      ],
      "text/plain": [
       "                Open      High       Low     Close  Adj Close    Volume\n",
       "Date                                                                   \n",
       "2006-01-04  0.016297  0.004046  0.017506  0.003666   0.003666 -0.015480\n",
       "2006-01-05  0.003666  0.001207  0.002017  0.000016   0.000016 -0.033139\n",
       "2006-01-06  0.000016  0.007163  0.002500  0.009356   0.009356  0.005418\n",
       "2006-01-09  0.009356  0.003640  0.008865  0.003650   0.003650 -0.061126\n",
       "2006-01-10  0.003650 -0.000488 -0.000825 -0.000357  -0.000357  0.030632"
      ]
     },
     "execution_count": 11,
     "metadata": {},
     "output_type": "execute_result"
    }
   ],
   "source": [
    "# Calculate returns\n",
    "ret = np.log(df/df.shift(1)).dropna()\n",
    "ret.head()"
   ]
  },
  {
   "cell_type": "code",
   "execution_count": 6,
   "metadata": {},
   "outputs": [],
   "source": [
    "# Set random seed\n",
    "np.random.seed(42)\n",
    "\n",
    "# Train the GHMM model\n",
    "close = ret.loc[:, 'Close'].values.reshape(-1, 1)\n",
    "ghmm = hmm.GaussianHMM(n_components=3, covariance_type='full').fit(close)"
   ]
  },
  {
   "cell_type": "code",
   "execution_count": 7,
   "metadata": {},
   "outputs": [
    {
     "data": {
      "text/plain": [
       "[<matplotlib.lines.Line2D at 0x2369dbc12d0>]"
      ]
     },
     "execution_count": 7,
     "metadata": {},
     "output_type": "execute_result"
    },
    {
     "data": {
      "image/png": "[encoded data removed]",
      "text/plain": [
       "<Figure size 640x480 with 1 Axes>"
      ]
     },
     "metadata": {},
     "output_type": "display_data"
    }
   ],
   "source": [
    "plt.plot(close)"
   ]
  },
  {
   "cell_type": "code",
   "execution_count": 8,
   "metadata": {},
   "outputs": [
    {
     "name": "stdout",
     "output_type": "stream",
     "text": [
      "[-0.00056305] [-0.00109946] [0.00171081]\n"
     ]
    }
   ],
   "source": [
    "# Obtain the expectation of multivariate-normal distribution for each state\n",
    "static = 0\n",
    "bull = 0\n",
    "bear = 0\n",
    "\n",
    "mu_n = ghmm.means_[0]\n",
    "mu_c = ghmm.means_[1]\n",
    "mu_3 = ghmm.means_[2]\n",
    "print(mu_n, mu_c, mu_3)"
   ]
  },
  {
   "cell_type": "code",
   "execution_count": 9,
   "metadata": {},
   "outputs": [
    {
     "name": "stdout",
     "output_type": "stream",
     "text": [
      "[[7.04731522e-05]]\n",
      "[[5.20156249e-05]]\n",
      "[[0.00053967]]\n"
     ]
    }
   ],
   "source": [
    "print(ghmm.covars_[0])\n",
    "print(ghmm.covars_[1])\n",
    "print(ghmm.covars_[2])\n"
   ]
  },
  {
   "cell_type": "code",
   "execution_count": 10,
   "metadata": {},
   "outputs": [
    {
     "data": {
      "text/plain": [
       "array([[0.0016, 0.9984, 0.    ],\n",
       "       [0.9656, 0.0149, 0.0195],\n",
       "       [0.0281, 0.0089, 0.963 ]])"
      ]
     },
     "execution_count": 10,
     "metadata": {},
     "output_type": "execute_result"
    }
   ],
   "source": [
    "np.round(ghmm.transmat_, 4)"
   ]
  }
 ],
 "metadata": {
  "kernelspec": {
   "display_name": "Python 3",
   "language": "python",
   "name": "python3"
  },
  "language_info": {
   "codemirror_mode": {
    "name": "ipython",
    "version": 3
   },
   "file_extension": ".py",
   "mimetype": "text/x-python",
   "name": "python",
   "nbconvert_exporter": "python",
   "pygments_lexer": "ipython3",
   "version": "3.11.3"
  }
 },
 "nbformat": 4,
 "nbformat_minor": 2
}
