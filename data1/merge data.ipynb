{
 "cells": [
  {
   "cell_type": "code",
   "execution_count": 2,
   "metadata": {},
   "outputs": [],
   "source": [
    "import pandas as pd\n",
    "import os\n",
    "\n",
    "# 指定文件夹路径\n",
    "folder_path = '/Users/jinnia/Desktop/data1'\n",
    "\n",
    "# 读取 \"Hurst Exponent.csv\"，假设日期列名为 \"Date\"\n",
    "hurst_df = pd.read_csv(os.path.join(folder_path, 'Hurst Exponent.csv'), parse_dates=['Date'])\n",
    "hurst_df.sort_values('Date', inplace=True)  # 确保数据按日期排序\n",
    "\n",
    "# 遍历文件夹中的所有文件\n",
    "for file in os.listdir(folder_path):\n",
    "    if file.endswith('.csv') and file != 'Hurst Exponent.csv':\n",
    "        # 读取 CSV 文件\n",
    "        temp_df = pd.read_csv(os.path.join(folder_path, file), parse_dates=['DATE'])\n",
    "        temp_df.rename(columns={'DATE': 'Date'}, inplace=True)  # 将 'DATE' 列重命名为 'Date'\n",
    "        temp_df.sort_values('Date', inplace=True)  # 确保数据按日期排序\n",
    "        \n",
    "        # 使用 merge_asof 进行近似合并\n",
    "        hurst_df = pd.merge_asof(hurst_df, temp_df, on='Date', tolerance=pd.Timedelta('7 days'), direction='nearest')\n",
    "\n",
    "# 应用前向填充处理缺失值\n",
    "hurst_df.ffill(inplace=True)\n",
    "\n",
    "# 最后，保存合并后的 DataFrame\n",
    "hurst_df.to_csv(os.path.join(folder_path, 'Merged_Hurst_Exponent.csv'))\n"
   ]
  }
 ],
 "metadata": {
  "kernelspec": {
   "display_name": "Python 3",
   "language": "python",
   "name": "python3"
  },
  "language_info": {
   "codemirror_mode": {
    "name": "ipython",
    "version": 3
   },
   "file_extension": ".py",
   "mimetype": "text/x-python",
   "name": "python",
   "nbconvert_exporter": "python",
   "pygments_lexer": "ipython3",
   "version": "3.10.4"
  }
 },
 "nbformat": 4,
 "nbformat_minor": 2
}
